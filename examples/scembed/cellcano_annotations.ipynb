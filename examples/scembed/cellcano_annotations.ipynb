{
 "cells": [
  {
   "cell_type": "code",
   "execution_count": 40,
   "metadata": {},
   "outputs": [],
   "source": [
    "import numpy as np\n",
    "import scanpy as sc\n",
    "import pandas as pd\n",
    "\n",
    "from gitk import scembed\n",
    "\n",
    "pbmc = sc.read_h5ad(\"pbmc/pbmc.h5ad\")"
   ]
  },
  {
   "cell_type": "code",
   "execution_count": 41,
   "metadata": {},
   "outputs": [
    {
     "data": {
      "text/plain": [
       "(10246, 165434)"
      ]
     },
     "execution_count": 41,
     "metadata": {},
     "output_type": "execute_result"
    }
   ],
   "source": [
    "pbmc.shape"
   ]
  },
  {
   "cell_type": "code",
   "execution_count": 42,
   "metadata": {},
   "outputs": [],
   "source": [
    "pbmc.obs.drop([\"barcode\"], inplace=True, axis=1)\n",
    "pbmc.obs.reset_index(inplace=True)"
   ]
  },
  {
   "cell_type": "code",
   "execution_count": 43,
   "metadata": {},
   "outputs": [],
   "source": [
    "annotations = pd.read_csv(\"pbmc/cellcano_annotations.csv\", index_col=0, header=0)"
   ]
  },
  {
   "cell_type": "code",
   "execution_count": 44,
   "metadata": {},
   "outputs": [],
   "source": [
    "# split index at # and grab second item, store as new column called barcode\n",
    "annotations[\"barcode\"] = annotations.index.str.split(\"#\").str[1]"
   ]
  },
  {
   "cell_type": "code",
   "execution_count": 45,
   "metadata": {},
   "outputs": [],
   "source": [
    "# merge pbmc.obs with annotations on barcode\n",
    "pbmc.obs = pbmc.obs.merge(annotations, on=\"barcode\", how=\"left\")"
   ]
  },
  {
   "cell_type": "code",
   "execution_count": 39,
   "metadata": {},
   "outputs": [],
   "source": [
    "# init projector to get clusters again\n",
    "projector = scembed.Projector(\"databio/multiome\")"
   ]
  },
  {
   "cell_type": "code",
   "execution_count": null,
   "metadata": {},
   "outputs": [],
   "source": [
    "projector.project(pbmc)"
   ]
  },
  {
   "cell_type": "code",
   "execution_count": 51,
   "metadata": {},
   "outputs": [
    {
     "data": {
      "text/plain": [
       "AnnData object with n_obs × n_vars = 10246 × 165434\n",
       "    obs: 'barcode', 'pred_celltype', 'firstround_pred_celltype', 'entropy', 'leiden'\n",
       "    var: 'chr', 'start', 'end'\n",
       "    uns: 'neighbors', 'leiden'\n",
       "    obsm: 'embedding'\n",
       "    obsp: 'distances', 'connectivities'"
      ]
     },
     "execution_count": 51,
     "metadata": {},
     "output_type": "execute_result"
    }
   ],
   "source": [
    "pbmc"
   ]
  },
  {
   "cell_type": "code",
   "execution_count": 62,
   "metadata": {},
   "outputs": [],
   "source": [
    "# cluster using embeddings (these are the same as what I used for previous clustering)\n",
    "sc.pp.neighbors(pbmc, use_rep=\"embedding\")\n",
    "sc.tl.leiden(pbmc, resolution=0.10, random_state=42)"
   ]
  },
  {
   "cell_type": "code",
   "execution_count": 63,
   "metadata": {},
   "outputs": [],
   "source": [
    "# for each cluster in the leiden clustering, find the most common cell_type and assign it to the cluster\n",
    "cluster_to_cell_type = {}\n",
    "for cluster in pbmc.obs.leiden.unique():\n",
    "    cluster_to_cell_type[cluster] = pbmc.obs.loc[pbmc.obs.leiden == cluster, \"pred_celltype\"].value_counts().index[0]"
   ]
  },
  {
   "cell_type": "code",
   "execution_count": 69,
   "metadata": {},
   "outputs": [],
   "source": [
    "# map the cluster_to_cell_type dictionary to the leiden column\n",
    "pbmc.obs[\"cellcano_consensus_celltype\"] = pbmc.obs[\"leiden\"].map(cluster_to_cell_type)"
   ]
  },
  {
   "cell_type": "code",
   "execution_count": 70,
   "metadata": {},
   "outputs": [
    {
     "data": {
      "text/plain": [
       "cellcano_consensus_celltype\n",
       "CD4 T cells        4427\n",
       "Monocytes          3218\n",
       "CD8 T cells        1241\n",
       "NK cells            675\n",
       "B cells             551\n",
       "Dendritic cells     134\n",
       "Name: count, dtype: int64"
      ]
     },
     "execution_count": 70,
     "metadata": {},
     "output_type": "execute_result"
    }
   ],
   "source": [
    "pbmc.obs['cellcano_consensus_celltype'].value_counts()"
   ]
  },
  {
   "cell_type": "code",
   "execution_count": 72,
   "metadata": {},
   "outputs": [],
   "source": [
    "pbmc.obs.drop([\"consensus_celltype\"], inplace=True, axis=1)"
   ]
  },
  {
   "cell_type": "code",
   "execution_count": 73,
   "metadata": {},
   "outputs": [
    {
     "data": {
      "text/plain": [
       "{'1': 'Monocytes',\n",
       " '0': 'CD4 T cells',\n",
       " '5': 'B cells',\n",
       " '3': 'NK cells',\n",
       " '2': 'CD8 T cells',\n",
       " '4': 'Monocytes',\n",
       " '6': 'Dendritic cells',\n",
       " '7': 'Monocytes'}"
      ]
     },
     "execution_count": 73,
     "metadata": {},
     "output_type": "execute_result"
    }
   ],
   "source": [
    "cluster_to_cell_type"
   ]
  }
 ],
 "metadata": {
  "kernelspec": {
   "display_name": "venv",
   "language": "python",
   "name": "python3"
  },
  "language_info": {
   "codemirror_mode": {
    "name": "ipython",
    "version": 3
   },
   "file_extension": ".py",
   "mimetype": "text/x-python",
   "name": "python",
   "nbconvert_exporter": "python",
   "pygments_lexer": "ipython3",
   "version": "3.10.6"
  },
  "orig_nbformat": 4
 },
 "nbformat": 4,
 "nbformat_minor": 2
}
